{
 "cells": [
  {
   "cell_type": "code",
   "execution_count": 1,
   "metadata": {},
   "outputs": [],
   "source": [
    "%matplotlib inline\n",
    "import matplotlib.pyplot as plt\n",
    "import numpy as np\n",
    "import imageio"
   ]
  },
  {
   "cell_type": "code",
   "execution_count": 2,
   "metadata": {},
   "outputs": [
    {
     "data": {
      "text/plain": [
       "<matplotlib.image.AxesImage at 0x7f3427b196a0>"
      ]
     },
     "execution_count": 2,
     "metadata": {},
     "output_type": "execute_result"
    },
    {
     "data": {
      "image/png": "[encoded data removed]",
      "text/plain": [
       "<Figure size 432x288 with 1 Axes>"
      ]
     },
     "metadata": {
      "needs_background": "light"
     },
     "output_type": "display_data"
    }
   ],
   "source": [
    "#plt.imshow(imageio.imread('./c64_upp.gif'))\n",
    "plt.imshow(imageio.imread('./Potash_8x8.png'))"
   ]
  },
  {
   "cell_type": "code",
   "execution_count": 3,
   "metadata": {},
   "outputs": [],
   "source": [
    "font = np.asarray(imageio.imread('./Potash_8x8.png'))\n",
    "#font = np.asarray(imageio.imread('./c64_upp.gif'))\n",
    "font = np.where(np.atleast_3d(font)[..., 0] == 255, 1, 0)\n",
    "\n",
    "n_rows = font.shape[0] // 8\n",
    "font = (font.reshape((font.shape[0], -1, 8))\n",
    "        .transpose([1, 0, 2])\n",
    "        .reshape((-1, n_rows, 8*8))\n",
    "        .transpose([1, 0, 2])\n",
    "        .reshape((-1, 8))\n",
    "       )"
   ]
  },
  {
   "cell_type": "code",
   "execution_count": 4,
   "metadata": {},
   "outputs": [
    {
     "data": {
      "text/plain": [
       "<matplotlib.image.AxesImage at 0x7f3427a40588>"
      ]
     },
     "execution_count": 4,
     "metadata": {},
     "output_type": "execute_result"
    },
    {
     "data": {
      "image/png": "[encoded data removed]",
      "text/plain": [
       "<Figure size 432x288 with 1 Axes>"
      ]
     },
     "metadata": {
      "needs_background": "light"
     },
     "output_type": "display_data"
    }
   ],
   "source": [
    "plt.imshow(font[:8*10,:])"
   ]
  },
  {
   "cell_type": "code",
   "execution_count": 6,
   "metadata": {},
   "outputs": [],
   "source": [
    "#vals = np.zeros((font.shape[0],), np.uint16)\n",
    "#vals[:16] = 0x0550\n",
    "#vals[16:32] = 0x5050\n",
    "#vals[32:48] = 0x5005\n",
    "#for col in range(8):\n",
    "#    vals ^= np.where(font[:, col], 0, 1<<(15-(2*col))).astype(np.uint16)\n",
    "\n",
    "vals = np.zeros((font.shape[0],), np.uint8)\n",
    "for col in range(8):\n",
    "    vals |= np.where(font[:, col], 0, 1<<(7-col)).astype(np.uint8)"
   ]
  },
  {
   "cell_type": "code",
   "execution_count": 15,
   "metadata": {},
   "outputs": [],
   "source": [
    "#with open('../tileram.hex', 'w') as f:\n",
    "#    for v in vals:\n",
    "#        print(f'{v:04x}', file=f)"
   ]
  },
  {
   "cell_type": "code",
   "execution_count": 10,
   "metadata": {},
   "outputs": [],
   "source": [
    "with open('../font.bin', 'wb') as f:\n",
    "    f.write(vals.tobytes())"
   ]
  },
  {
   "cell_type": "code",
   "execution_count": 9,
   "metadata": {},
   "outputs": [
    {
     "data": {
      "text/plain": [
       "2048"
      ]
     },
     "execution_count": 9,
     "metadata": {},
     "output_type": "execute_result"
    }
   ],
   "source": [
    "len(vals.tobytes())"
   ]
  },
  {
   "cell_type": "code",
   "execution_count": null,
   "metadata": {},
   "outputs": [],
   "source": []
  }
 ],
 "metadata": {
  "kernelspec": {
   "display_name": "Python 3",
   "language": "python",
   "name": "python3"
  },
  "language_info": {
   "codemirror_mode": {
    "name": "ipython",
    "version": 3
   },
   "file_extension": ".py",
   "mimetype": "text/x-python",
   "name": "python",
   "nbconvert_exporter": "python",
   "pygments_lexer": "ipython3",
   "version": "3.6.7"
  }
 },
 "nbformat": 4,
 "nbformat_minor": 2
}
